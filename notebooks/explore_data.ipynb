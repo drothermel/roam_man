{
 "cells": [
  {
   "cell_type": "code",
   "execution_count": 1,
   "id": "96a12855-6fb2-4919-b5ea-b13de9d13d43",
   "metadata": {},
   "outputs": [],
   "source": [
    "import dr_util.file_utils as fu\n",
    "import re\n",
    "from collections import defaultdict\n",
    "import roam_man.process_utils as pu\n",
    "from roam_man.roam_graph import RoamGraph"
   ]
  },
  {
   "cell_type": "code",
   "execution_count": null,
   "id": "0bfaac4b-3328-4e25-ad65-4bdd7b045bda",
   "metadata": {},
   "outputs": [],
   "source": []
  },
  {
   "cell_type": "markdown",
   "id": "5e10b179-4319-4194-a7f4-000974f77561",
   "metadata": {},
   "source": [
    "**Goal:** Programatically extract, surface and annotate useful things in work roam graph data."
   ]
  },
  {
   "cell_type": "code",
   "execution_count": 2,
   "id": "64b74d1c-e2e3-47ee-9a24-499ca7640a17",
   "metadata": {},
   "outputs": [],
   "source": [
    "rg = RoamGraph(\"/Users/daniellerothermel/Desktop/life_planning-2024-09-23-14-41-27.json\")"
   ]
  },
  {
   "cell_type": "code",
   "execution_count": 3,
   "id": "ab8bc423-554e-4793-a8e1-eba9d9992d99",
   "metadata": {},
   "outputs": [
    {
     "name": "stdout",
     "output_type": "stream",
     "text": [
      "Title Set Sizes\n",
      " -  daily_pages : 112\n",
      " -  bars : 0\n",
      " -  backslashes : 8\n",
      " -  with_ref : 0\n",
      " -  other : 211\n"
     ]
    }
   ],
   "source": [
    "title_sets = pu.page_node_list_to_title_sets(rg.roam_pages, rg.uid_to_title)\n",
    "print(\"Title Set Sizes\")\n",
    "for k, v in title_sets.items():\n",
    "    print(\" - \", k, \":\", len(v))\n",
    "    if k == \"with_ref\":\n",
    "        for kk, vv in v.items():\n",
    "                print(\"   - \", kk, len(vv))"
   ]
  },
  {
   "cell_type": "code",
   "execution_count": 4,
   "id": "0268dac3-efa1-4b40-8a32-efc4b025fc45",
   "metadata": {},
   "outputs": [
    {
     "data": {
      "text/plain": [
       "Classification and Correction of Non-Representative News Headlines\n",
       "  uid='DNqgQM5vZ' refs=[]"
      ]
     },
     "execution_count": 4,
     "metadata": {},
     "output_type": "execute_result"
    }
   ],
   "source": [
    "rg.get_page_node_by_index(102)"
   ]
  },
  {
   "cell_type": "code",
   "execution_count": 5,
   "id": "9e64c767-8640-4404-a12a-332d1e48ca6e",
   "metadata": {},
   "outputs": [
    {
     "name": "stdout",
     "output_type": "stream",
     "text": [
      "[Course] AI Ethics\n",
      "  uid='N1LOb9Fs1' refs=[]\n",
      "\n",
      " - #todo.to_process.move\n",
      " ==> uid='lr6hmn0Q-' refs=['pUoYhPB6m']\n",
      "\n",
      " - Course Website: ([here](https://docs.google.com/document/d/1NEChtWaW602Up4qydn9G-lK1SyXSz8xvK-ZOaEoDTfI/edit#heading=h.62f44hystje1)) ([campus wire](https://campuswire.com/c/G18FA4C71/feed))\n",
      " - Week 1: AI & Language\n",
      " - Week 2: AI & Human Interaction\n",
      " - Week 3: AI & Law\n",
      " - Week 4: AI & Journalism\n",
      " - [2023| On Scientific Debt in NLP](https://roamresearch.com/#/app/drotherm_roam/page/sxXrmlQrs)\n",
      " - [2020| GPT-3 Language Models are Few-Shot Learners](https://roamresearch.com/#/app/drotherm_roam/page/TfbY49nXl)\n",
      " - [2011| NLP (almost) from Scratch](https://roamresearch.com/#/app/drotherm_roam/page/1jp48m18z)\n",
      " - Bansal et al. [Does the Whole Exceed its Parts?](https://arxiv.org/pdf/2006.14779.pdf) The Effect of AI Explanations on Complementary Team Performance. CHI 2021.\n",
      " - Durmus et al. [Towards Measuring the Representation of Subjective Global Opinions in Language Models.](https://arxiv.org/pdf/2306.16388.pdf) arXiv preprint arXiv:2306.16388.\n",
      " - **[optional]** Lee et al. [Evaluating Human-Language Model Interaction.](https://arxiv.org/pdf/2212.09746.pdf) TMLR 2023.\n",
      " - Mahari, Fjeld, & Epstein, [Generative AI is a minefield for copyright law](https://theconversation.com/generative-ai-is-a-minefield-for-copyright-law-207473), The Conversation (June 15, 2023)\n",
      " - Wong, [Regulatory gaps and democratic oversight: On AI and self-regulation](https://srinstitute.utoronto.ca/news/tech-self-regulation-democratic-oversight), U. Toronto SRI Institute (Sep 21, 2023)\n",
      " - Strickland, [6 Reactions to the White House's AI Bill of Rights](https://spectrum.ieee.org/white-house-ai), IEEE Spectrum (Oct 14, 2023)\n",
      " - Tan & Cabato, [Behind the Big AI boom, an army of overseas workers in ‘digital sweatshops’](https://www.washingtonpost.com/world/2023/08/28/scale-ai-remotasks-philippines-artificial-intelligence), Washington Post (Aug 28, 2023) (here’s a non-paywalled [pdf version](https://drive.google.com/file/d/1bUXD55JbUS9orNSwNWhPTuZ_QA4aod-R/view?usp=sharing))\n",
      " - **[optional]** Cahn, [The first effort to regulate AI was a spectacular failure](https://www.fastcompany.com/90436012/the-first-effort-to-regulate-ai-was-a-spectacular-failure), Fast Company (Nov 26, 2019)\n",
      " - Meredith Broussard: Confronting Race, Gender and Ability Bias in Tech\n",
      " - Use AI to do journalism better\n",
      " - Learned to talk about AI first -> first step in the talk\n"
     ]
    }
   ],
   "source": [
    "rg.get_page_node_by_index(6).print_full()"
   ]
  },
  {
   "cell_type": "code",
   "execution_count": null,
   "id": "f675dfdd-f3a9-488c-986d-0699bf6c2429",
   "metadata": {},
   "outputs": [],
   "source": []
  },
  {
   "cell_type": "markdown",
   "id": "521d5764-df42-472a-82ad-3842a002e00e",
   "metadata": {},
   "source": [
    "### **Also:** Check out pu.map_items_with_input(input_dict)"
   ]
  },
  {
   "cell_type": "raw",
   "id": "495f4075-ced3-4583-9325-e876e792d993",
   "metadata": {},
   "source": [
    "od_bars = map_items_with_input(rg.title_sets['bars'])"
   ]
  },
  {
   "cell_type": "raw",
   "id": "af2d43c1-0890-4e42-9353-2ef52403d0a9",
   "metadata": {},
   "source": [
    "remap_keys = {\n",
    "    \"C\": \"course\",\n",
    "    \"PG\": \"good_paper\",\n",
    "    \"P\": \"paper_to_fix\",\n",
    "    \"RT\": \"research_threads\",\n",
    "    \"T\": \"textbook\",\n",
    "    \"Project\": \"project\",\n",
    "    \"repo\": \"repo\",\n",
    "    \"conf\": \"conference_related\",\n",
    "    \"B\": \"blog\",\n",
    "    \"Thesis\": \"thesis\",\n",
    "    \"Talk\": \"talk\",\n",
    "    \"Notes\": \"misc_pages\",\n",
    "    \"Podcast\": \"podcast\",\n",
    "}"
   ]
  },
  {
   "cell_type": "raw",
   "id": "6923b0b4-ec28-4c54-ad82-dfde00392e22",
   "metadata": {},
   "source": [
    "for old_k, new_k in remap_keys.items():\n",
    "    od_bars[new_k] = od_bars[old_k]\n",
    "    del od_bars[old_k]"
   ]
  },
  {
   "cell_type": "raw",
   "id": "f83e8fc8-d708-4821-a4df-dddf17ea698f",
   "metadata": {},
   "source": [
    "fu.dump_file(od_bars, '/Users/daniellerothermel/Desktop/sorted_titles_with_bars.pkl')"
   ]
  },
  {
   "cell_type": "code",
   "execution_count": null,
   "id": "bceb8c68-35ac-44da-b07f-9afd60afcd7f",
   "metadata": {},
   "outputs": [],
   "source": []
  }
 ],
 "metadata": {
  "kernelspec": {
   "display_name": "Python 3 (ipykernel)",
   "language": "python",
   "name": "python3"
  },
  "language_info": {
   "codemirror_mode": {
    "name": "ipython",
    "version": 3
   },
   "file_extension": ".py",
   "mimetype": "text/x-python",
   "name": "python",
   "nbconvert_exporter": "python",
   "pygments_lexer": "ipython3",
   "version": "3.12.2"
  }
 },
 "nbformat": 4,
 "nbformat_minor": 5
}

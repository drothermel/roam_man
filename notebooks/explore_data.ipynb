{
 "cells": [
  {
   "cell_type": "code",
   "execution_count": 1,
   "id": "96a12855-6fb2-4919-b5ea-b13de9d13d43",
   "metadata": {},
   "outputs": [],
   "source": [
    "import dr_util.file_utils as fu"
   ]
  },
  {
   "cell_type": "code",
   "execution_count": 2,
   "id": "06925731-1f1c-415a-8c4f-61062f36eb45",
   "metadata": {},
   "outputs": [],
   "source": [
    "import re\n",
    "from collections import defaultdict"
   ]
  },
  {
   "cell_type": "code",
   "execution_count": 3,
   "id": "1eb154a5-00e6-4665-9915-80a06290b7d3",
   "metadata": {},
   "outputs": [],
   "source": [
    "import roam_man.validation_utils as vu\n",
    "import roam_man.viz_utils as zu"
   ]
  },
  {
   "cell_type": "markdown",
   "id": "5e10b179-4319-4194-a7f4-000974f77561",
   "metadata": {},
   "source": [
    "**Goal:** Programatically extract, surface and annotate useful things in work roam graph data."
   ]
  },
  {
   "cell_type": "markdown",
   "id": "a9799379-d5ef-4287-bee6-ce268a563268",
   "metadata": {},
   "source": [
    "## Define Clases & Utils"
   ]
  },
  {
   "cell_type": "code",
   "execution_count": 4,
   "id": "92fbb012-dcdf-4ba2-ba5a-4e06352ed12c",
   "metadata": {},
   "outputs": [],
   "source": [
    "class RoamNode:\n",
    "    def __init__(self, json, parent=None, start_depth=0):\n",
    "        self.refs_uid_blacklist = set([\n",
    "            'KVGudD7AP', # [[DONE]]\n",
    "            'e2rS3SVH7', # [[TODO]]\n",
    "        ])\n",
    "        if json is None:\n",
    "            raise Exception(\"None json page\")\n",
    "        if not isinstance(json, dict):\n",
    "            raise Exception(\n",
    "                \"RoamNode expects single page json\"\n",
    "            )\n",
    "            \n",
    "        self.raw_data = None\n",
    "        self.depth = start_depth\n",
    "        self.parent = parent\n",
    "\n",
    "        self.title = None\n",
    "        self.string = None\n",
    "        self.uid = None\n",
    "        self.create_time = None\n",
    "        self.edit_time = None\n",
    "        self.children = []\n",
    "        self.refs = []\n",
    "        self.recursive_refs = set()\n",
    "        self.other_keys = {}\n",
    "        \n",
    "        self.import_json(json)\n",
    "\n",
    "    def __repr__(self):\n",
    "        indent = \"  \" * self.depth\n",
    "        if self.title is not None:\n",
    "            rep_str = f\"{self.title}\\n\"\n",
    "            rep_str += f\" {indent} {self.uid=} {self.refs=}\\n\"\n",
    "        else:\n",
    "            rep_str = f\"{indent} - {self.string}\"\n",
    "            if len(self.refs) > 0:\n",
    "                rep_str += f\"\\n{indent} ==> {self.uid=} {self.refs=}\\n\"\n",
    "        return rep_str\n",
    "\n",
    "    def import_json(self, json):\n",
    "        self.raw_data =  json\n",
    "\n",
    "        for k, v in json.items():\n",
    "            if k[0] == ':' or \"user\" in k:\n",
    "                continue\n",
    "\n",
    "            # TODO: cleanup\n",
    "            if k == 'title':\n",
    "                self.title = v\n",
    "            elif k == 'string':\n",
    "                self.string = v\n",
    "            elif k == 'uid':\n",
    "                self.uid = v\n",
    "            elif k == 'create-time':\n",
    "                self.create_time = v\n",
    "            elif k == 'edit-time':\n",
    "                self.edit_time = v\n",
    "            elif k == 'children':\n",
    "                for ch in v:\n",
    "                    self.children.append(\n",
    "                        RoamNode(ch, parent=self, start_depth=self.depth+1)\n",
    "                    )\n",
    "            elif k == 'refs':\n",
    "                for vv in v:\n",
    "                    if 'uid' in vv and vv['uid'] not in self.refs_uid_blacklist:\n",
    "                        self.refs.append(vv['uid'])\n",
    "            else:\n",
    "                self.other_keys[k] = v\n",
    "\n",
    "        # Add my refs to the refs of my tree\n",
    "        self.recursive_refs.update(self.refs)\n",
    "        if self.parent is not None:\n",
    "            # And if my parent exists, add my tree's refs to their tree's refs\n",
    "            self.parent.recursive_refs.update(self.recursive_refs)\n",
    "\n",
    "            "
   ]
  },
  {
   "cell_type": "code",
   "execution_count": 5,
   "id": "5efca59e-052f-4ea6-9852-c8c7c68e4bd2",
   "metadata": {},
   "outputs": [],
   "source": [
    "# Uses validation_utils\n",
    "# Uses viz_utils\n",
    "class RoamGraph:\n",
    "    def __init__(self, input_path, checkpoint_path=None):\n",
    "        self.input_path = input_path\n",
    "        self.checkpoint_path = checkpoint_path\n",
    "\n",
    "        self.roam_data = None\n",
    "        self.roam_pages = None\n",
    "        self.uid_to_title = None\n",
    "        self.title_sets = None\n",
    "\n",
    "        # Initialize\n",
    "        self.parse_roam_data()\n",
    "        \n",
    "    def parse_roam_data(self):\n",
    "        self.roam_data = fu.load_file(self.input_path)\n",
    "        self.roam_pages = {rd['title']: RoamNode(rd) for rd in self.roam_data}\n",
    "        self.uid_to_title = {v.uid: k for k, v in self.roam_pages.items()}\n",
    "    \n",
    "        self.title_sets = {\n",
    "            'daily_pages': set(),\n",
    "            'bars': set(),\n",
    "            'backslashes': set(),\n",
    "            'with_ref': {},\n",
    "            'other': set(),\n",
    "        }\n",
    "        for title, node in self.roam_pages.items():\n",
    "            if vu.is_valid_date(node.uid):\n",
    "                self.title_sets['daily_pages'].add(title)\n",
    "            elif '|' in title:\n",
    "                self.title_sets['bars'].add(title)\n",
    "                if len(node.refs) > 0:\n",
    "                    first_ref_title = self.uid_to_title[node.refs[0]]\n",
    "                    if first_ref_title not in self.title_sets['with_ref']:\n",
    "                        self.title_sets['with_ref'][first_ref_title] = set()\n",
    "                    self.title_sets['with_ref'][first_ref_title].add(title)\n",
    "            elif \"/\" in title:\n",
    "                self.title_sets['backslashes'].add(title)\n",
    "            else:\n",
    "                self.title_sets['other'].add(title)\n",
    "\n",
    "        if self.checkpoint_path is not None:\n",
    "            fu.dump_file(self, self.checkpoint_path, force_suffix=True)\n",
    "\n",
    "    def print_page(self, title=None, idx=None):\n",
    "        if title is None and idx is not None:\n",
    "            if idx >= len(self.roam_data):\n",
    "                print(f\">> ERROR: no index {idx} in list of len {len(self.roam_data)}\")\n",
    "                return\n",
    "            title = self.roam_data[idx]['title']\n",
    "        \n",
    "        if title not in self.roam_pages:\n",
    "            print(f\">> ERROR: title not found {title}\")\n",
    "            return\n",
    "        print(zu.roam_node_tree_to_str(self.roam_pages[title]))\n"
   ]
  },
  {
   "cell_type": "code",
   "execution_count": null,
   "id": "2226a14f-1934-4d5b-a62a-82d85ed90e31",
   "metadata": {},
   "outputs": [],
   "source": []
  },
  {
   "cell_type": "code",
   "execution_count": 6,
   "id": "64b74d1c-e2e3-47ee-9a24-499ca7640a17",
   "metadata": {},
   "outputs": [],
   "source": [
    "rg = RoamGraph(\"/Users/daniellerothermel/Desktop/life_planning-2024-09-23-14-41-27.json\")"
   ]
  },
  {
   "cell_type": "code",
   "execution_count": 7,
   "id": "8d7a8d18-fbfb-4959-9586-d35b14690b27",
   "metadata": {},
   "outputs": [
    {
     "name": "stdout",
     "output_type": "stream",
     "text": [
      "daily_pages 112\n",
      "bars 0\n",
      "backslashes 8\n",
      "with_ref 0\n",
      "other 211\n"
     ]
    }
   ],
   "source": [
    "for k, v in rg.title_sets.items():\n",
    "    print(k, len(v))\n",
    "    if k == \"with_ref\":\n",
    "        for kk, vv in v.items():\n",
    "            if len(vv) > 1:\n",
    "                print(\"   \", kk, len(vv))"
   ]
  },
  {
   "cell_type": "code",
   "execution_count": null,
   "id": "f10fd3f6-63dd-435a-b8ce-dc740b1e6a4f",
   "metadata": {},
   "outputs": [],
   "source": []
  },
  {
   "cell_type": "code",
   "execution_count": 8,
   "id": "d2d73eb2-7d8f-4850-a354-4b838638130d",
   "metadata": {},
   "outputs": [
    {
     "name": "stdout",
     "output_type": "stream",
     "text": [
      "Danielle Rothermel\n",
      "  self.uid='tx0S2zj5t' self.refs=[]\n",
      "\n"
     ]
    }
   ],
   "source": [
    "rg.print_page(idx=0)"
   ]
  },
  {
   "cell_type": "code",
   "execution_count": 9,
   "id": "b1b1bada-3cc5-438c-b5cc-9be10782a401",
   "metadata": {},
   "outputs": [
    {
     "data": {
      "text/plain": [
       "{'uid': 'tx0S2zj5t',\n",
       " 'create-time': 1694303705806,\n",
       " 'edit-time': 1694303705806,\n",
       " 'title': 'Danielle Rothermel',\n",
       " ':create/user': {':user/uid': 'XRlk7Tpv53UEosC4qi7bcFHhVPx1'},\n",
       " ':edit/user': {':user/uid': 'XRlk7Tpv53UEosC4qi7bcFHhVPx1'}}"
      ]
     },
     "execution_count": 9,
     "metadata": {},
     "output_type": "execute_result"
    }
   ],
   "source": [
    "rg.roam_data[0]"
   ]
  },
  {
   "cell_type": "code",
   "execution_count": 10,
   "id": "058d9a2e-f4a8-489c-8a23-4841e643254b",
   "metadata": {},
   "outputs": [
    {
     "name": "stdout",
     "output_type": "stream",
     "text": [
      "September 10th, 2023\n",
      "  self.uid='09-10-2023' self.refs=[]\n",
      "\n",
      "   - \n",
      "   - \n",
      "   - \n"
     ]
    }
   ],
   "source": [
    "rg.print_page(idx=4)"
   ]
  },
  {
   "cell_type": "code",
   "execution_count": 11,
   "id": "8e83bd42-f99e-493a-8af6-84a72da6c5d4",
   "metadata": {},
   "outputs": [
    {
     "data": {
      "text/plain": [
       "{'create-time': 1694303843654,\n",
       " 'title': 'September 10th, 2023',\n",
       " ':create/user': {':user/uid': 'XRlk7Tpv53UEosC4qi7bcFHhVPx1'},\n",
       " ':log/id': 1694304000000,\n",
       " 'children': [{'string': '',\n",
       "   'uid': 'ethuDfQnz',\n",
       "   'create-time': 1694222018484,\n",
       "   'edit-time': 1726759422421,\n",
       "   ':create/user': {':user/uid': 'XRlk7Tpv53UEosC4qi7bcFHhVPx1'},\n",
       "   ':edit/user': {':user/uid': 'XRlk7Tpv53UEosC4qi7bcFHhVPx1'}},\n",
       "  {'string': '',\n",
       "   'uid': 'Bk0x95uuG',\n",
       "   'create-time': 1694222024643,\n",
       "   'edit-time': 1726761412347,\n",
       "   ':create/user': {':user/uid': 'XRlk7Tpv53UEosC4qi7bcFHhVPx1'},\n",
       "   ':edit/user': {':user/uid': 'XRlk7Tpv53UEosC4qi7bcFHhVPx1'}},\n",
       "  {'string': '',\n",
       "   'uid': 'x-pdNbL0R',\n",
       "   'create-time': 1694222027500,\n",
       "   'edit-time': 1726763135105,\n",
       "   ':create/user': {':user/uid': 'XRlk7Tpv53UEosC4qi7bcFHhVPx1'},\n",
       "   ':edit/user': {':user/uid': 'XRlk7Tpv53UEosC4qi7bcFHhVPx1'}}],\n",
       " 'uid': '09-10-2023',\n",
       " 'edit-time': 1694303843654,\n",
       " ':edit/user': {':user/uid': 'XRlk7Tpv53UEosC4qi7bcFHhVPx1'}}"
      ]
     },
     "execution_count": 11,
     "metadata": {},
     "output_type": "execute_result"
    }
   ],
   "source": [
    "rg.roam_data[4]"
   ]
  },
  {
   "cell_type": "code",
   "execution_count": null,
   "id": "73774fb7-e76c-404f-8409-84c7f7a111f8",
   "metadata": {},
   "outputs": [],
   "source": []
  },
  {
   "cell_type": "code",
   "execution_count": 12,
   "id": "679b1883-ebd8-4cbd-92eb-8c54e5bfe3f9",
   "metadata": {},
   "outputs": [
    {
     "name": "stdout",
     "output_type": "stream",
     "text": [
      "Classification and Correction of Non-Representative News Headlines\n",
      "  self.uid='DNqgQM5vZ' self.refs=[]\n",
      "\n",
      "   - #todo.to_process.move\n",
      "   ==> self.uid='SbngKbqIX' self.refs=['pUoYhPB6m']\n",
      "\n"
     ]
    }
   ],
   "source": [
    "rg.print_page(idx=102)"
   ]
  },
  {
   "cell_type": "code",
   "execution_count": 13,
   "id": "cf4df0fd-6b09-4bdf-9112-73817364cf2c",
   "metadata": {},
   "outputs": [
    {
     "data": {
      "text/plain": [
       "{'create-time': 1699907527267,\n",
       " 'title': 'Classification and Correction of Non-Representative News Headlines',\n",
       " ':create/user': {':user/uid': 'XRlk7Tpv53UEosC4qi7bcFHhVPx1'},\n",
       " 'children': [{'string': '#todo.to_process.move',\n",
       "   'create-time': 1726760509745,\n",
       "   ':block/refs': [{':block/uid': 'pUoYhPB6m'}],\n",
       "   'refs': [{'uid': 'pUoYhPB6m'}],\n",
       "   ':create/user': {':user/uid': 'XRlk7Tpv53UEosC4qi7bcFHhVPx1'},\n",
       "   'uid': 'SbngKbqIX',\n",
       "   'edit-time': 1726760513278,\n",
       "   ':edit/user': {':user/uid': 'XRlk7Tpv53UEosC4qi7bcFHhVPx1'}}],\n",
       " 'uid': 'DNqgQM5vZ',\n",
       " 'edit-time': 1699907527267,\n",
       " ':edit/user': {':user/uid': 'XRlk7Tpv53UEosC4qi7bcFHhVPx1'}}"
      ]
     },
     "execution_count": 13,
     "metadata": {},
     "output_type": "execute_result"
    }
   ],
   "source": [
    "rg.roam_data[102]"
   ]
  },
  {
   "cell_type": "code",
   "execution_count": null,
   "id": "f675dfdd-f3a9-488c-986d-0699bf6c2429",
   "metadata": {},
   "outputs": [],
   "source": []
  },
  {
   "cell_type": "code",
   "execution_count": null,
   "id": "bafb2358-67e7-408a-9e37-254ee9572a7c",
   "metadata": {},
   "outputs": [],
   "source": [
    "def map_items_with_input(input_dict):\n",
    "    \"\"\"\n",
    "    Function to surface items from input_dict one at a time, allowing the user to provide keyboard input.\n",
    "    The input will be used as the key to create a new dictionary where the value is a set containing \n",
    "    all corresponding values from input_dict for the same user-provided key.\n",
    "    \n",
    "    Args:\n",
    "        input_dict (dict): The input dictionary to be processed.\n",
    "\n",
    "    Returns:\n",
    "        dict: A new dictionary with user-provided keys and sets of values from input_dict.\n",
    "    \"\"\"\n",
    "    output_dict = {}\n",
    "\n",
    "    for key in input_dict:\n",
    "        user_input = input(f\"-> '{key}': \")\n",
    "\n",
    "        # If the user input already exists in the dictionary, append the value to the set\n",
    "        if user_input in output_dict:\n",
    "            output_dict[user_input].add(key)\n",
    "        else:\n",
    "            # Create a new set for the new key\n",
    "            output_dict[user_input] = {key}\n",
    "    \n",
    "    return output_dict"
   ]
  },
  {
   "cell_type": "code",
   "execution_count": null,
   "id": "0d834225-61bc-48ce-a888-68bfbb5ac80b",
   "metadata": {},
   "outputs": [],
   "source": [
    "od_bars = map_items_with_input(rg.title_sets['bars'])"
   ]
  },
  {
   "cell_type": "code",
   "execution_count": null,
   "id": "6cb509a2-6a41-460f-a6f6-7f89f68dc2e8",
   "metadata": {},
   "outputs": [],
   "source": [
    "for k, v in od_bars.items():\n",
    "    print(k, len(v))"
   ]
  },
  {
   "cell_type": "code",
   "execution_count": null,
   "id": "ccee9414-46e1-416e-908f-146ca07f804c",
   "metadata": {},
   "outputs": [],
   "source": [
    "remap_keys = {\n",
    "    \"C\": \"course\",\n",
    "    \"PG\": \"good_paper\",\n",
    "    \"P\": \"paper_to_fix\",\n",
    "    \"RT\": \"research_threads\",\n",
    "    \"T\": \"textbook\",\n",
    "    \"Project\": \"project\",\n",
    "    \"repo\": \"repo\",\n",
    "    \"conf\": \"conference_related\",\n",
    "    \"B\": \"blog\",\n",
    "    \"Thesis\": \"thesis\",\n",
    "    \"Talk\": \"talk\",\n",
    "    \"Notes\": \"misc_pages\",\n",
    "    \"Podcast\": \"podcast\",\n",
    "}"
   ]
  },
  {
   "cell_type": "code",
   "execution_count": null,
   "id": "f015610b-11d7-4a36-9300-325eec116969",
   "metadata": {},
   "outputs": [],
   "source": [
    "for old_k, new_k in remap_keys.items():\n",
    "    od_bars[new_k] = od_bars[old_k]\n",
    "    del od_bars[old_k]"
   ]
  },
  {
   "cell_type": "code",
   "execution_count": null,
   "id": "0ccd0372-f0a3-4e29-ad01-cef891b1b40e",
   "metadata": {},
   "outputs": [],
   "source": [
    "fu.dump_file(od_bars, '/Users/daniellerothermel/Desktop/sorted_titles_with_bars.pkl')"
   ]
  },
  {
   "cell_type": "code",
   "execution_count": null,
   "id": "dffac2fa-531e-4ca6-9b86-3ea03a8b156c",
   "metadata": {},
   "outputs": [],
   "source": []
  },
  {
   "cell_type": "markdown",
   "id": "aa194fe2-3f82-41e9-af5c-d7c017136a2b",
   "metadata": {},
   "source": [
    "## Extraction!"
   ]
  },
  {
   "cell_type": "code",
   "execution_count": null,
   "id": "820b5f6f-8ae2-4540-a7fe-f733e9b0aec1",
   "metadata": {},
   "outputs": [],
   "source": [
    "p1 = RoamNode(roam_data[1])\n",
    "p1"
   ]
  },
  {
   "cell_type": "code",
   "execution_count": null,
   "id": "a54254ec-c173-4a06-9f3d-363de7f9712e",
   "metadata": {},
   "outputs": [],
   "source": [
    "rps, u2t, tsts = parse_roam_data(roam_data)"
   ]
  },
  {
   "cell_type": "code",
   "execution_count": null,
   "id": "49dc5db2-00ae-47a4-91d0-8b815fbe1a6e",
   "metadata": {},
   "outputs": [],
   "source": [
    "rps['October 8th, 2020']"
   ]
  },
  {
   "cell_type": "code",
   "execution_count": null,
   "id": "fb4b0c0e-539a-4bc4-9eca-ef1fc64600c6",
   "metadata": {},
   "outputs": [],
   "source": [
    "for k, v in tsts.items():\n",
    "    print(k, len(v))"
   ]
  },
  {
   "cell_type": "code",
   "execution_count": null,
   "id": "edf5a7ba-bb93-4add-a993-65d9b83465ea",
   "metadata": {},
   "outputs": [],
   "source": [
    "for k, v in tsts['with_ref'].items():\n",
    "    if len(v) > 1:\n",
    "        print(k, v)\n",
    "        print()"
   ]
  },
  {
   "cell_type": "code",
   "execution_count": null,
   "id": "50a28e4f-dc98-47aa-be64-6a4097db6358",
   "metadata": {},
   "outputs": [],
   "source": []
  },
  {
   "cell_type": "code",
   "execution_count": null,
   "id": "aad5941d-a9fa-4778-b01b-ce53f032fdab",
   "metadata": {},
   "outputs": [],
   "source": [
    "roam_pages = {rd['title']: RoamNode(rd) for rd in roam_data}"
   ]
  },
  {
   "cell_type": "code",
   "execution_count": null,
   "id": "2e44eabe-17fb-4aef-bb73-8c9be81c174d",
   "metadata": {},
   "outputs": [],
   "source": [
    "bar_titles = [t for t in roam_pages.keys() if \"|\" in t]"
   ]
  },
  {
   "cell_type": "code",
   "execution_count": null,
   "id": "27453de7-397e-4e06-8ee7-dbbcfb2ae23f",
   "metadata": {},
   "outputs": [],
   "source": [
    "backslash_titles = [t for t in roam_pages.keys() if \"/\" in t]"
   ]
  },
  {
   "cell_type": "code",
   "execution_count": null,
   "id": "6987c2ab-915b-42bc-ae1d-369fdea2e343",
   "metadata": {},
   "outputs": [],
   "source": [
    "#backslash_titles\n",
    "bar_titles"
   ]
  },
  {
   "cell_type": "code",
   "execution_count": null,
   "id": "1f850e18-5885-4991-8afc-e06b3328a1be",
   "metadata": {},
   "outputs": [],
   "source": []
  },
  {
   "cell_type": "code",
   "execution_count": null,
   "id": "acde4f7a-c909-41b6-a860-870a1e44db39",
   "metadata": {},
   "outputs": [],
   "source": []
  },
  {
   "cell_type": "markdown",
   "id": "9206fb54-e324-4835-b5b1-438f4cfe3051",
   "metadata": {},
   "source": [
    "---\n",
    "\n",
    "## Examples"
   ]
  },
  {
   "cell_type": "markdown",
   "id": "9ecba5a9-855f-4ee1-83c0-be155da95ab4",
   "metadata": {
    "jp-MarkdownHeadingCollapsed": true
   },
   "source": [
    "### Example of Daily Page"
   ]
  },
  {
   "cell_type": "code",
   "execution_count": null,
   "id": "3130788f-b0b4-42ec-8523-79d2f5f82341",
   "metadata": {},
   "outputs": [],
   "source": [
    "print_roam_node(RoamNode(roam_data[0]))"
   ]
  },
  {
   "cell_type": "markdown",
   "id": "6547cfac-3148-48c8-bd30-794abb15a642",
   "metadata": {
    "jp-MarkdownHeadingCollapsed": true
   },
   "source": [
    "### Example of New Paper Page Format"
   ]
  },
  {
   "cell_type": "code",
   "execution_count": null,
   "id": "93dfbd94-3204-4dfc-b1ee-3f9f77bebb15",
   "metadata": {},
   "outputs": [],
   "source": [
    "print_roam_node(RoamNode(roam_data[2000]))"
   ]
  },
  {
   "cell_type": "markdown",
   "id": "96574d6f-df82-4f33-b6c7-b1331c29426d",
   "metadata": {
    "jp-MarkdownHeadingCollapsed": true
   },
   "source": [
    "### Example of Old Paper Page Format"
   ]
  },
  {
   "cell_type": "code",
   "execution_count": null,
   "id": "676f925f-1af1-46f8-9512-b63feb1ee98f",
   "metadata": {},
   "outputs": [],
   "source": [
    "print_roam_node(RoamNode(roam_data[2]))"
   ]
  },
  {
   "cell_type": "code",
   "execution_count": null,
   "id": "e7fe2742-ce55-485c-8800-effe6588dd03",
   "metadata": {},
   "outputs": [],
   "source": []
  },
  {
   "cell_type": "code",
   "execution_count": null,
   "id": "bceb8c68-35ac-44da-b07f-9afd60afcd7f",
   "metadata": {},
   "outputs": [],
   "source": []
  }
 ],
 "metadata": {
  "kernelspec": {
   "display_name": "Python 3 (ipykernel)",
   "language": "python",
   "name": "python3"
  },
  "language_info": {
   "codemirror_mode": {
    "name": "ipython",
    "version": 3
   },
   "file_extension": ".py",
   "mimetype": "text/x-python",
   "name": "python",
   "nbconvert_exporter": "python",
   "pygments_lexer": "ipython3",
   "version": "3.12.2"
  }
 },
 "nbformat": 4,
 "nbformat_minor": 5
}

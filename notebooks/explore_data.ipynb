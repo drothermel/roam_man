{
 "cells": [
  {
   "cell_type": "code",
   "execution_count": 1,
   "id": "96a12855-6fb2-4919-b5ea-b13de9d13d43",
   "metadata": {},
   "outputs": [],
   "source": [
    "import dr_util.file_utils as fu"
   ]
  },
  {
   "cell_type": "code",
   "execution_count": 2,
   "id": "06925731-1f1c-415a-8c4f-61062f36eb45",
   "metadata": {},
   "outputs": [],
   "source": [
    "import re\n",
    "from collections import defaultdict"
   ]
  },
  {
   "cell_type": "code",
   "execution_count": 3,
   "id": "1eb154a5-00e6-4665-9915-80a06290b7d3",
   "metadata": {},
   "outputs": [],
   "source": [
    "import roam_man.validation_utils as vu\n",
    "import roam_man.viz_utils as zu\n",
    "from roam_man.roam_graph import RoamGraph"
   ]
  },
  {
   "cell_type": "markdown",
   "id": "5e10b179-4319-4194-a7f4-000974f77561",
   "metadata": {},
   "source": [
    "**Goal:** Programatically extract, surface and annotate useful things in work roam graph data."
   ]
  },
  {
   "cell_type": "code",
   "execution_count": 4,
   "id": "64b74d1c-e2e3-47ee-9a24-499ca7640a17",
   "metadata": {},
   "outputs": [],
   "source": [
    "rg = RoamGraph(\"/Users/daniellerothermel/Desktop/life_planning-2024-09-23-14-41-27.json\")"
   ]
  },
  {
   "cell_type": "code",
   "execution_count": 5,
   "id": "0268dac3-efa1-4b40-8a32-efc4b025fc45",
   "metadata": {},
   "outputs": [
    {
     "data": {
      "text/plain": [
       "Classification and Correction of Non-Representative News Headlines\n",
       "  uid='DNqgQM5vZ' refs=[]"
      ]
     },
     "execution_count": 5,
     "metadata": {},
     "output_type": "execute_result"
    }
   ],
   "source": [
    "rg.get_page_node_by_index(102)"
   ]
  },
  {
   "cell_type": "code",
   "execution_count": 10,
   "id": "9e64c767-8640-4404-a12a-332d1e48ca6e",
   "metadata": {},
   "outputs": [
    {
     "name": "stdout",
     "output_type": "stream",
     "text": [
      "[Course] AI Ethics\n",
      "  uid='N1LOb9Fs1' refs=[]\n",
      "\n",
      " - #todo.to_process.move\n",
      " ==> uid='lr6hmn0Q-' refs=['pUoYhPB6m']\n",
      "\n",
      " - Course Website: ([here](https://docs.google.com/document/d/1NEChtWaW602Up4qydn9G-lK1SyXSz8xvK-ZOaEoDTfI/edit#heading=h.62f44hystje1)) ([campus wire](https://campuswire.com/c/G18FA4C71/feed))\n",
      " - Week 1: AI & Language\n",
      " - Week 2: AI & Human Interaction\n",
      " - Week 3: AI & Law\n",
      " - Week 4: AI & Journalism\n",
      " - [2023| On Scientific Debt in NLP](https://roamresearch.com/#/app/drotherm_roam/page/sxXrmlQrs)\n",
      " - [2020| GPT-3 Language Models are Few-Shot Learners](https://roamresearch.com/#/app/drotherm_roam/page/TfbY49nXl)\n",
      " - [2011| NLP (almost) from Scratch](https://roamresearch.com/#/app/drotherm_roam/page/1jp48m18z)\n",
      " - Bansal et al. [Does the Whole Exceed its Parts?](https://arxiv.org/pdf/2006.14779.pdf) The Effect of AI Explanations on Complementary Team Performance. CHI 2021.\n",
      " - Durmus et al. [Towards Measuring the Representation of Subjective Global Opinions in Language Models.](https://arxiv.org/pdf/2306.16388.pdf) arXiv preprint arXiv:2306.16388.\n",
      " - **[optional]** Lee et al. [Evaluating Human-Language Model Interaction.](https://arxiv.org/pdf/2212.09746.pdf) TMLR 2023.\n",
      " - Mahari, Fjeld, & Epstein, [Generative AI is a minefield for copyright law](https://theconversation.com/generative-ai-is-a-minefield-for-copyright-law-207473), The Conversation (June 15, 2023)\n",
      " - Wong, [Regulatory gaps and democratic oversight: On AI and self-regulation](https://srinstitute.utoronto.ca/news/tech-self-regulation-democratic-oversight), U. Toronto SRI Institute (Sep 21, 2023)\n",
      " - Strickland, [6 Reactions to the White House's AI Bill of Rights](https://spectrum.ieee.org/white-house-ai), IEEE Spectrum (Oct 14, 2023)\n",
      " - Tan & Cabato, [Behind the Big AI boom, an army of overseas workers in ‘digital sweatshops’](https://www.washingtonpost.com/world/2023/08/28/scale-ai-remotasks-philippines-artificial-intelligence), Washington Post (Aug 28, 2023) (here’s a non-paywalled [pdf version](https://drive.google.com/file/d/1bUXD55JbUS9orNSwNWhPTuZ_QA4aod-R/view?usp=sharing))\n",
      " - **[optional]** Cahn, [The first effort to regulate AI was a spectacular failure](https://www.fastcompany.com/90436012/the-first-effort-to-regulate-ai-was-a-spectacular-failure), Fast Company (Nov 26, 2019)\n",
      " - Meredith Broussard: Confronting Race, Gender and Ability Bias in Tech\n",
      " - Use AI to do journalism better\n",
      " - Learned to talk about AI first -> first step in the talk\n"
     ]
    }
   ],
   "source": [
    "rg.get_page_node_by_index(6).print_full()"
   ]
  },
  {
   "cell_type": "code",
   "execution_count": null,
   "id": "ca500205-bdef-4ac4-a854-f2fb07a39af2",
   "metadata": {},
   "outputs": [],
   "source": []
  },
  {
   "cell_type": "code",
   "execution_count": 15,
   "id": "7ce5fa8d-24e1-4fad-94bd-752e48e29436",
   "metadata": {},
   "outputs": [],
   "source": [
    "def page_node_list_to_title_sets(page_nodes):\n",
    "    title_sets = {\n",
    "        'daily_pages': set(),\n",
    "        'bars': set(),\n",
    "        'backslashes': set(),\n",
    "        'with_ref': {},\n",
    "        'other': set(),\n",
    "    }\n",
    "    for title, node in page_nodes.items():\n",
    "        if vu.is_valid_date(node.uid):\n",
    "            title_sets['daily_pages'].add(title)\n",
    "        elif '|' in title:\n",
    "            title_sets['bars'].add(title)\n",
    "            if len(node.refs) > 0:\n",
    "                first_ref_title = self.uid_to_title[node.refs[0]]\n",
    "                if first_ref_title not in title_sets['with_ref']:\n",
    "                    title_sets['with_ref'][first_ref_title] = set()\n",
    "                title_sets['with_ref'][first_ref_title].add(title)\n",
    "        elif \"/\" in title:\n",
    "            title_sets['backslashes'].add(title)\n",
    "        else:\n",
    "            title_sets['other'].add(title)\n",
    "    return title_sets"
   ]
  },
  {
   "cell_type": "code",
   "execution_count": null,
   "id": "1a0876aa-0c37-4066-b5ba-42ad9d592327",
   "metadata": {},
   "outputs": [],
   "source": []
  },
  {
   "cell_type": "code",
   "execution_count": 16,
   "id": "6b96bf64-15a0-46ec-bc28-1a09d8d77fcb",
   "metadata": {},
   "outputs": [],
   "source": [
    "title_sets = page_node_list_to_title_sets(rg.roam_pages)"
   ]
  },
  {
   "cell_type": "code",
   "execution_count": 17,
   "id": "8d7a8d18-fbfb-4959-9586-d35b14690b27",
   "metadata": {},
   "outputs": [
    {
     "name": "stdout",
     "output_type": "stream",
     "text": [
      "daily_pages 112\n",
      "bars 0\n",
      "backslashes 8\n",
      "with_ref 0\n",
      "other 211\n"
     ]
    }
   ],
   "source": [
    "for k, v in title_sets.items():\n",
    "    print(k, len(v))\n",
    "    if k == \"with_ref\":\n",
    "        for kk, vv in v.items():\n",
    "            if len(vv) > 1:\n",
    "                print(\"   \", kk, len(vv))"
   ]
  },
  {
   "cell_type": "code",
   "execution_count": null,
   "id": "ea924e33-7939-42ce-a142-cb3e49b78c6e",
   "metadata": {},
   "outputs": [],
   "source": []
  },
  {
   "cell_type": "code",
   "execution_count": null,
   "id": "f675dfdd-f3a9-488c-986d-0699bf6c2429",
   "metadata": {},
   "outputs": [],
   "source": []
  },
  {
   "cell_type": "code",
   "execution_count": null,
   "id": "bafb2358-67e7-408a-9e37-254ee9572a7c",
   "metadata": {},
   "outputs": [],
   "source": [
    "def map_items_with_input(input_dict):\n",
    "    \"\"\"\n",
    "    Function to surface items from input_dict one at a time, allowing the user to provide keyboard input.\n",
    "    The input will be used as the key to create a new dictionary where the value is a set containing \n",
    "    all corresponding values from input_dict for the same user-provided key.\n",
    "    \n",
    "    Args:\n",
    "        input_dict (dict): The input dictionary to be processed.\n",
    "\n",
    "    Returns:\n",
    "        dict: A new dictionary with user-provided keys and sets of values from input_dict.\n",
    "    \"\"\"\n",
    "    output_dict = {}\n",
    "\n",
    "    for key in input_dict:\n",
    "        user_input = input(f\"-> '{key}': \")\n",
    "\n",
    "        # If the user input already exists in the dictionary, append the value to the set\n",
    "        if user_input in output_dict:\n",
    "            output_dict[user_input].add(key)\n",
    "        else:\n",
    "            # Create a new set for the new key\n",
    "            output_dict[user_input] = {key}\n",
    "    \n",
    "    return output_dict"
   ]
  },
  {
   "cell_type": "code",
   "execution_count": null,
   "id": "0d834225-61bc-48ce-a888-68bfbb5ac80b",
   "metadata": {},
   "outputs": [],
   "source": [
    "od_bars = map_items_with_input(rg.title_sets['bars'])"
   ]
  },
  {
   "cell_type": "code",
   "execution_count": null,
   "id": "6cb509a2-6a41-460f-a6f6-7f89f68dc2e8",
   "metadata": {},
   "outputs": [],
   "source": [
    "for k, v in od_bars.items():\n",
    "    print(k, len(v))"
   ]
  },
  {
   "cell_type": "code",
   "execution_count": null,
   "id": "ccee9414-46e1-416e-908f-146ca07f804c",
   "metadata": {},
   "outputs": [],
   "source": [
    "remap_keys = {\n",
    "    \"C\": \"course\",\n",
    "    \"PG\": \"good_paper\",\n",
    "    \"P\": \"paper_to_fix\",\n",
    "    \"RT\": \"research_threads\",\n",
    "    \"T\": \"textbook\",\n",
    "    \"Project\": \"project\",\n",
    "    \"repo\": \"repo\",\n",
    "    \"conf\": \"conference_related\",\n",
    "    \"B\": \"blog\",\n",
    "    \"Thesis\": \"thesis\",\n",
    "    \"Talk\": \"talk\",\n",
    "    \"Notes\": \"misc_pages\",\n",
    "    \"Podcast\": \"podcast\",\n",
    "}"
   ]
  },
  {
   "cell_type": "code",
   "execution_count": null,
   "id": "f015610b-11d7-4a36-9300-325eec116969",
   "metadata": {},
   "outputs": [],
   "source": [
    "for old_k, new_k in remap_keys.items():\n",
    "    od_bars[new_k] = od_bars[old_k]\n",
    "    del od_bars[old_k]"
   ]
  },
  {
   "cell_type": "code",
   "execution_count": null,
   "id": "0ccd0372-f0a3-4e29-ad01-cef891b1b40e",
   "metadata": {},
   "outputs": [],
   "source": [
    "fu.dump_file(od_bars, '/Users/daniellerothermel/Desktop/sorted_titles_with_bars.pkl')"
   ]
  },
  {
   "cell_type": "code",
   "execution_count": null,
   "id": "dffac2fa-531e-4ca6-9b86-3ea03a8b156c",
   "metadata": {},
   "outputs": [],
   "source": []
  },
  {
   "cell_type": "markdown",
   "id": "9206fb54-e324-4835-b5b1-438f4cfe3051",
   "metadata": {},
   "source": [
    "---\n",
    "\n",
    "## Examples"
   ]
  },
  {
   "cell_type": "markdown",
   "id": "9ecba5a9-855f-4ee1-83c0-be155da95ab4",
   "metadata": {
    "jp-MarkdownHeadingCollapsed": true
   },
   "source": [
    "### Example of Daily Page"
   ]
  },
  {
   "cell_type": "code",
   "execution_count": null,
   "id": "3130788f-b0b4-42ec-8523-79d2f5f82341",
   "metadata": {},
   "outputs": [],
   "source": [
    "print_roam_node(RoamNode(roam_data[0]))"
   ]
  },
  {
   "cell_type": "markdown",
   "id": "6547cfac-3148-48c8-bd30-794abb15a642",
   "metadata": {
    "jp-MarkdownHeadingCollapsed": true
   },
   "source": [
    "### Example of New Paper Page Format"
   ]
  },
  {
   "cell_type": "code",
   "execution_count": null,
   "id": "93dfbd94-3204-4dfc-b1ee-3f9f77bebb15",
   "metadata": {},
   "outputs": [],
   "source": [
    "print_roam_node(RoamNode(roam_data[2000]))"
   ]
  },
  {
   "cell_type": "markdown",
   "id": "96574d6f-df82-4f33-b6c7-b1331c29426d",
   "metadata": {
    "jp-MarkdownHeadingCollapsed": true
   },
   "source": [
    "### Example of Old Paper Page Format"
   ]
  },
  {
   "cell_type": "code",
   "execution_count": null,
   "id": "676f925f-1af1-46f8-9512-b63feb1ee98f",
   "metadata": {},
   "outputs": [],
   "source": [
    "print_roam_node(RoamNode(roam_data[2]))"
   ]
  },
  {
   "cell_type": "code",
   "execution_count": null,
   "id": "e7fe2742-ce55-485c-8800-effe6588dd03",
   "metadata": {},
   "outputs": [],
   "source": []
  },
  {
   "cell_type": "code",
   "execution_count": null,
   "id": "bceb8c68-35ac-44da-b07f-9afd60afcd7f",
   "metadata": {},
   "outputs": [],
   "source": []
  }
 ],
 "metadata": {
  "kernelspec": {
   "display_name": "Python 3 (ipykernel)",
   "language": "python",
   "name": "python3"
  },
  "language_info": {
   "codemirror_mode": {
    "name": "ipython",
    "version": 3
   },
   "file_extension": ".py",
   "mimetype": "text/x-python",
   "name": "python",
   "nbconvert_exporter": "python",
   "pygments_lexer": "ipython3",
   "version": "3.12.2"
  }
 },
 "nbformat": 4,
 "nbformat_minor": 5
}

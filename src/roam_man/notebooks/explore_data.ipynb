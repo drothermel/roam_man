{
 "cells": [
  {
   "cell_type": "code",
   "execution_count": 1,
   "id": "96a12855-6fb2-4919-b5ea-b13de9d13d43",
   "metadata": {},
   "outputs": [],
   "source": [
    "import dr_util.file_utils as fu"
   ]
  },
  {
   "cell_type": "code",
   "execution_count": 2,
   "id": "afbd5a0c-a937-4827-8073-dd6b30d1f8c6",
   "metadata": {},
   "outputs": [],
   "source": [
    "roam_data = fu.load_file(\"/Users/daniellerothermel/Desktop/drotherm_roam.json\")"
   ]
  },
  {
   "cell_type": "code",
   "execution_count": 3,
   "id": "52d28266-f976-4055-9df9-1cc4c8eb3f1b",
   "metadata": {},
   "outputs": [
    {
     "data": {
      "text/plain": [
       "4644"
      ]
     },
     "execution_count": 3,
     "metadata": {},
     "output_type": "execute_result"
    }
   ],
   "source": [
    "len(roam_data)"
   ]
  },
  {
   "cell_type": "code",
   "execution_count": null,
   "id": "5b2a3cd4-f51c-49a0-94e9-9f1ee8f466a2",
   "metadata": {},
   "outputs": [],
   "source": []
  }
 ],
 "metadata": {
  "kernelspec": {
   "display_name": "Python 3 (ipykernel)",
   "language": "python",
   "name": "python3"
  },
  "language_info": {
   "codemirror_mode": {
    "name": "ipython",
    "version": 3
   },
   "file_extension": ".py",
   "mimetype": "text/x-python",
   "name": "python",
   "nbconvert_exporter": "python",
   "pygments_lexer": "ipython3",
   "version": "3.12.2"
  }
 },
 "nbformat": 4,
 "nbformat_minor": 5
}
